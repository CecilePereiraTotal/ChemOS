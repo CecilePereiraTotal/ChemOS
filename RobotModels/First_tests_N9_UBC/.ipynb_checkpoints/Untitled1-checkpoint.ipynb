{
 "cells": [
  {
   "cell_type": "markdown",
   "metadata": {},
   "source": [
    "## Humanoid calibration of an HPLC\n",
    "\n",
    "Goal of this experiment is ...\n",
    "\n",
    "Please provide your name and today's date in the cell below"
   ]
  },
  {
   "cell_type": "code",
   "execution_count": 1,
   "metadata": {
    "collapsed": true
   },
   "outputs": [],
   "source": [
    "name = 'John Doe'\n",
    "date = '02/06'"
   ]
  },
  {
   "cell_type": "markdown",
   "metadata": {},
   "source": [
    "\n",
    "\n",
    "We start with initializing a new session"
   ]
  },
  {
   "cell_type": "code",
   "execution_count": 2,
   "metadata": {},
   "outputs": [
    {
     "name": "stdout",
     "output_type": "stream",
     "text": [
      "... constructing network\n",
      "INFO:tensorflow:Restoring parameters from model/bnn.ckpt\n"
     ]
    }
   ],
   "source": [
    "import numpy as np \n",
    "from n9_model import N9_Model\n",
    "model = N9_Model(name, date)"
   ]
  },
  {
   "cell_type": "markdown",
   "metadata": {},
   "source": [
    "Great! You can now run a virtual calibration by calling\n",
    "\n",
    "```python\n",
    "    model.run_experiment(parameters)\n",
    "```\n",
    "\n",
    "where `parameters` is the set of parameters you want to run. Please note, that `parameters` is expected to be a numpy array of shape `(6,)`."
   ]
  },
  {
   "cell_type": "code",
   "execution_count": 18,
   "metadata": {},
   "outputs": [],
   "source": [
    "parameter = np.array([0.5,0.25,0.18325,0.5,0.5,0.5])"
   ]
  },
  {
   "cell_type": "code",
   "execution_count": 19,
   "metadata": {},
   "outputs": [
    {
     "name": "stdout",
     "output_type": "stream",
     "text": [
      "chosen parameters: [ 0.5      0.25     0.18325  0.5      0.5      0.5    ]\n",
      "achieved peak area:  2020.145313183596\n"
     ]
    }
   ],
   "source": [
    "model.run_experiment(parameter)"
   ]
  },
  {
   "cell_type": "code",
   "execution_count": 20,
   "metadata": {},
   "outputs": [
    {
     "name": "stdout",
     "output_type": "stream",
     "text": [
      "# 0: \t 2692.96 \t [ 0.5     0.25    0.2325  0.5     0.5     0.5   ]\n",
      "# 5: \t 2020.15 \t [ 0.5      0.25     0.18325  0.5      0.5      0.5    ]\n",
      "# 4: \t 2019.73 \t [ 0.5      0.25     0.18325  0.5      0.5      0.5    ]\n",
      "# 3: \t 364.37 \t [ 0.5      0.25     0.12325  0.5      0.5      0.5    ]\n",
      "# 1: \t 364.33 \t [ 0.5      0.25     0.12325  0.5      0.5      0.5    ]\n",
      "# 2: \t 364.21 \t [ 0.5      0.25     0.12325  0.5      0.5      0.5    ]\n",
      "\n"
     ]
    }
   ],
   "source": [
    "model.print_summary(sort = True)"
   ]
  }
 ],
 "metadata": {
  "kernelspec": {
   "display_name": "Python [conda env:prob]",
   "language": "python",
   "name": "conda-env-prob-py"
  },
  "language_info": {
   "codemirror_mode": {
    "name": "ipython",
    "version": 3
   },
   "file_extension": ".py",
   "mimetype": "text/x-python",
   "name": "python",
   "nbconvert_exporter": "python",
   "pygments_lexer": "ipython3",
   "version": "3.6.2"
  }
 },
 "nbformat": 4,
 "nbformat_minor": 2
}

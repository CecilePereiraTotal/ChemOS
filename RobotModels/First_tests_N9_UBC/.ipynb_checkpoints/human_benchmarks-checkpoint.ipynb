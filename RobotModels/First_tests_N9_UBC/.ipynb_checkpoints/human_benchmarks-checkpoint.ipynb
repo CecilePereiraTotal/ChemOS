{
 "cells": [
  {
   "cell_type": "markdown",
   "metadata": {},
   "source": [
    "## Calibrating a virtual system for real-time reaction monitoring\n",
    "\n",
    "Dear experimenter,\n",
    "\n",
    "this notebook is designed to provide a platform for calibrating a virtual robot. The task of the robot is to monitor chemical reactions in real-time. As calibrating the robot manually is a tedious task, calibration is set up in autonomously: an algorithm based on artifical intelligence searches for the set of parameters which optimize the performance of the system.\n",
    "For more information and possibly a live demonstration, check out this link: [https://www.twitch.tv/ubcheinlab](https://www.twitch.tv/ubcheinlab)\n",
    "\n",
    "In this notebook you are given the opportunity to prove that you, as a scientist, are irreplacable. You have the chance to run a full calibration of a virtual clone of the actual system! \n",
    "* Goal of the calibration procedure is to **maximize** a variable called **peak area**\n",
    "* The peak are can be influenced by a total of **six** parameters. \n",
    "* All size parameters are bounded to the $[0, 1]$ interval\n",
    "\n",
    "To get started, simply follow the instructions below. You can try up to $100$ times to beat artifical intelligence!\n"
   ]
  },
  {
   "cell_type": "code",
   "execution_count": null,
   "metadata": {
    "collapsed": true
   },
   "outputs": [],
   "source": [
    "# please provide your name and the current date\n",
    "name = 'John Doe'\n",
    "date = '02/06'"
   ]
  },
  {
   "cell_type": "markdown",
   "metadata": {},
   "source": [
    "\n",
    "\n",
    "We start with initializing a new session"
   ]
  },
  {
   "cell_type": "code",
   "execution_count": null,
   "metadata": {},
   "outputs": [],
   "source": [
    "# setting up the virtual system might take a few seconds\n",
    "import numpy as np \n",
    "from n9_model import N9_Model\n",
    "model = N9_Model(name, date)"
   ]
  },
  {
   "cell_type": "markdown",
   "metadata": {},
   "source": [
    "Great! You can now run a virtual calibration by calling\n",
    "\n",
    "```python\n",
    "    model.run_experiment(parameters)\n",
    "```\n",
    "\n",
    "where `parameters` is the set of parameters you want to run. Please note, that `parameters` is expected to be a numpy array of shape `(6,)`. An example is provided in the cell below. Make sure to replace the `???` with the numerical values you want to set for the parameters.\n",
    "\n",
    "**Note**: all parameters must be between 0 and 1"
   ]
  },
  {
   "cell_type": "code",
   "execution_count": null,
   "metadata": {},
   "outputs": [],
   "source": [
    "# step 1: choose a parameter set\n",
    "parameters = np.array([???, ???, ???, ???, ???, ???])"
   ]
  },
  {
   "cell_type": "code",
   "execution_count": null,
   "metadata": {},
   "outputs": [],
   "source": [
    "# step 2: evaluate the parameter set on the virtual system\n",
    "model.run_experiment(parameters)"
   ]
  },
  {
   "cell_type": "code",
   "execution_count": null,
   "metadata": {
    "collapsed": true
   },
   "outputs": [],
   "source": [
    "# step 3: return to step 1"
   ]
  },
  {
   "cell_type": "markdown",
   "metadata": {},
   "source": [
    "For your convenience, you can print all past experiments of this session. Set `sort` to `True` to print all experiments sorted by peak area. Set `sort` to `False` for a summary in chronological order. "
   ]
  },
  {
   "cell_type": "code",
   "execution_count": null,
   "metadata": {},
   "outputs": [],
   "source": [
    "model.print_summary(sort = False)"
   ]
  }
 ],
 "metadata": {
  "kernelspec": {
   "display_name": "Python [conda env:prob]",
   "language": "python",
   "name": "conda-env-prob-py"
  },
  "language_info": {
   "codemirror_mode": {
    "name": "ipython",
    "version": 3
   },
   "file_extension": ".py",
   "mimetype": "text/x-python",
   "name": "python",
   "nbconvert_exporter": "python",
   "pygments_lexer": "ipython3",
   "version": "3.6.2"
  }
 },
 "nbformat": 4,
 "nbformat_minor": 2
}

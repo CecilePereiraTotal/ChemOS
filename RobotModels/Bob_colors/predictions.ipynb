{
 "cells": [
  {
   "cell_type": "markdown",
   "metadata": {},
   "source": [
    "# Using the trained Bayesian neural network for predictions\n",
    "\n",
    "We start with loading all the needed modules"
   ]
  },
  {
   "cell_type": "code",
   "execution_count": 4,
   "metadata": {
    "collapsed": true
   },
   "outputs": [],
   "source": [
    "# importing all modules needed for prediction\n",
    "import pickle \n",
    "import numpy as np \n",
    "import matplotlib.pyplot as plt \n",
    "import seaborn as sns\n",
    "%matplotlib inline\n",
    "\n",
    "# machine learning libraries\n",
    "import tensorflow as tf\n",
    "import edward as ed\n",
    "\n",
    "# bayesian neural network\n",
    "from network_details import BayesianNeuralNetwork"
   ]
  },
  {
   "cell_type": "markdown",
   "metadata": {},
   "source": [
    "# Constructing the Bayesian neural network instance\n",
    "\n",
    "Everything we have stored on disk are the parameters of the fully trained Bayesian neural network instance. In order to use the Bayesian neural network for predictions, we therefore first need to construct the network architecture. In this procedure, the computational graph for network prediction is constructed, which combines the weights and biases stored on disk. The construction consists of the following steps:\n",
    "* Initialize an abstract network instance\n",
    "* Construct the network architecture which was found to best approximate the given dataset\n",
    "* Load weights and biases for the constructed network architecture\n",
    "\n",
    "Examples for all three steps are in the cell below"
   ]
  },
  {
   "cell_type": "markdown",
   "metadata": {},
   "source": [
    "## Construct the Bayesian neural network\n",
    "\n",
    "Unfortunately we only have a set of network parameters stored in the `model/` directory, which means that we neet to construct the network first. The construction consists of the following steps:\n",
    "* Load the dataset on which we trained the network, to provide a context for network predictions. We can then easily compare the dataset used for network training with datasets used for predictions to estimate whether the network could give meaningful predictions\n",
    "* Load details about the training set with which the network was trained. This includes the means and standard deviations of features and targets in the training set.\n",
    "* Construct the network. In this step, we assemble the computational graph for network training and prediction. Although this step might take a little while, it significantly speeds up the prediction process\n",
    "* Load the network parameters, i.e. weights and biases.\n",
    "\n",
    "Examples for all steps are in the cells below"
   ]
  },
  {
   "cell_type": "code",
   "execution_count": 5,
   "metadata": {
    "collapsed": true
   },
   "outputs": [],
   "source": [
    "# initializing an abstract network object\n",
    "bnn = BayesianNeuralNetwork()"
   ]
  },
  {
   "cell_type": "code",
   "execution_count": 6,
   "metadata": {
    "collapsed": true
   },
   "outputs": [],
   "source": [
    "# get training set details\n",
    "details = pickle.load(open('model/training_set_specs.pkl', 'rb'))\n",
    "for att in ['mean_features', 'std_features', 'mean_targets', 'std_targets', 'max_targets', 'min_targets']:\n",
    "    setattr(bnn.manager, att, details[att])"
   ]
  },
  {
   "cell_type": "code",
   "execution_count": 7,
   "metadata": {},
   "outputs": [
    {
     "name": "stdout",
     "output_type": "stream",
     "text": [
      "... constructing network\n"
     ]
    }
   ],
   "source": [
    "# constructing the network architecture \n",
    "bnn.construct_networks()"
   ]
  },
  {
   "cell_type": "code",
   "execution_count": 8,
   "metadata": {},
   "outputs": [
    {
     "name": "stdout",
     "output_type": "stream",
     "text": [
      "INFO:tensorflow:Restoring parameters from model/bnn.ckpt\n"
     ]
    }
   ],
   "source": [
    "# loading the network parameters\n",
    "sess  = ed.get_session()\n",
    "saver = tf.train.Saver()\n",
    "saver.restore(sess, 'model/bnn.ckpt')\n",
    "#saver.restore(sess, 'model/tmp_bnn||.ckpt')"
   ]
  },
  {
   "cell_type": "markdown",
   "metadata": {},
   "source": [
    "## Predictions with the Bayesian neural network model\n",
    "\n",
    "Now we can jump to dissociation transfer time predictions with the trained network architecture. The cells below outline a possible workflow for predicting dissociation times for an arbitrary set of geometries.\n",
    "\n",
    "### Step 1: Getting dissociation time estimates from molecule geometries\n",
    "\n",
    "The cell below implements an example for obtaining dissociation time estimates from a set of geometries. To predict dissociation times from the trained network, use the `network.predict` method. This function requires a set of geometries in the form of a numpy array of the shape `[?, 24]`, where `?` can be an arbitrary number (i.e. number of geometries for which dissociation times are to be predicted). The geometries are expected to be provided in the same format as in the dataset used for training.\n",
    "\n",
    "The `predict` function will automatically rotate the provided geometries into normal mode space and rescale them based on the rescaling function determined from the dataset on which the networks were trained. The function will then draw a number of network instances from the stored distributions to predict dissociation times. \n",
    "\n",
    "The syntax of the `predict` function reads:\n",
    "```python\n",
    "    averages, uncertainties, all_samples = network.predict(geometries, n_post = 200)\n",
    "```\n",
    "where `geometries` denotes the geometries for which dissociation times are to be predicted. The optional argument `n_post` denotes the number of network instances to draw from the BNN distributions. In general, a larger `n_post` results in a more robust prediction, but increases the time needed for predictions. I found $200$ to be a reliable upper bound, i.e. increasing `n_post` beyond $200$ didn't affect the predictions much. Reasonable predictions can certainly be obtained with smaller values of `n_post`.\n",
    "\n",
    "The function returns the predictions of all sampled networks (`all_samples`) in the form of a `[n_post, ?]` matrix, where `?` denotes the number of geometries for which dissociation times were predicted. The network average of these predictions is stored in `averages`, the standard deviation is stored in `uncertainties`."
   ]
  },
  {
   "cell_type": "code",
   "execution_count": 9,
   "metadata": {},
   "outputs": [],
   "source": [
    "# lets load some geometries and momenta from the dataset\n",
    "from train_network import DataManager\n",
    "manager = DataManager('RawData/colors_green.pkl')"
   ]
  },
  {
   "cell_type": "code",
   "execution_count": 19,
   "metadata": {},
   "outputs": [
    {
     "name": "stdout",
     "output_type": "stream",
     "text": [
      "INFO:tensorflow:Restoring parameters from model/bnn.ckpt\n"
     ]
    }
   ],
   "source": [
    "# loading the network parameters\n",
    "sess  = ed.get_session()\n",
    "saver = tf.train.Saver()\n",
    "saver.restore(sess, 'model/bnn.ckpt')\n",
    "#saver.restore(sess, 'model/tmp_bnn||.ckpt')"
   ]
  },
  {
   "cell_type": "code",
   "execution_count": 20,
   "metadata": {
    "collapsed": true
   },
   "outputs": [],
   "source": [
    "predictions, uncertainties, _all_samples = bnn.predict(manager.features, n_post = 200, rescale = False)"
   ]
  },
  {
   "cell_type": "markdown",
   "metadata": {},
   "source": [
    "### Step 2: Analyzing precited dissociation times\n",
    "\n",
    "Next, we can look at the predicted dissociation times and compare them to our expectations, i.e. the target dissociation times on which we trained the network. In the following cells, points from the training set will always be highlighted in black, points from the validation set in green and points from the test set in red."
   ]
  },
  {
   "cell_type": "code",
   "execution_count": 21,
   "metadata": {},
   "outputs": [
    {
     "data": {
      "image/png": "[encoded data removed]",
      "text/plain": [
       "<matplotlib.figure.Figure at 0x7f856a467390>"
      ]
     },
     "metadata": {},
     "output_type": "display_data"
    }
   ],
   "source": [
    "fig = plt.figure(figsize = (12, 8))\n",
    "plt.plot([0, 0.6], [0, 0.6], color = 'g', lw = 5)\n",
    "plt.plot(manager.values, predictions, ls = '', marker = 'o', color = 'k', alpha = 0.5)\n",
    "plt.show()"
   ]
  },
  {
   "cell_type": "code",
   "execution_count": null,
   "metadata": {
    "collapsed": true
   },
   "outputs": [],
   "source": []
  }
 ],
 "metadata": {
  "kernelspec": {
   "display_name": "Python [conda env:prob]",
   "language": "python",
   "name": "conda-env-prob-py"
  },
  "language_info": {
   "codemirror_mode": {
    "name": "ipython",
    "version": 3
   },
   "file_extension": ".py",
   "mimetype": "text/x-python",
   "name": "python",
   "nbconvert_exporter": "python",
   "pygments_lexer": "ipython3",
   "version": "3.6.2"
  }
 },
 "nbformat": 4,
 "nbformat_minor": 2
}
